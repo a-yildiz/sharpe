{
 "cells": [
  {
   "cell_type": "code",
   "execution_count": 10,
   "metadata": {},
   "outputs": [],
   "source": [
    "import utils\n",
    "import numpy as np\n",
    "\n",
    "from tqdm import tqdm\n",
    "from pandas_datareader import data as pdr\n",
    "import yfinance as yf\n",
    "yf.pdr_override()"
   ]
  },
  {
   "cell_type": "code",
   "execution_count": 11,
   "metadata": {},
   "outputs": [
    {
     "name": "stdout",
     "output_type": "stream",
     "text": [
      "SPY: Contains 503 tickers.\n"
     ]
    }
   ],
   "source": [
    "# dji = utils.get_dji()\n",
    "spy = utils.get_spy()\n",
    "# qqq = utils.get_qqq()\n",
    "\n",
    "symbols = set(spy['Symbol'])\n",
    "# symbols = set(dji['Symbol']) | set(spy['Symbol']) | set(qqq['Symbol'])"
   ]
  },
  {
   "cell_type": "code",
   "execution_count": 12,
   "metadata": {},
   "outputs": [
    {
     "name": "stderr",
     "output_type": "stream",
     "text": [
      "[*********************100%%**********************]  503 of 503 completed\n",
      "\n",
      "2 Failed downloads:\n",
      "['BRK.B']: Exception('%ticker%: No timezone found, symbol may be delisted')\n",
      "['BF.B']: Exception('%ticker%: No price data found, symbol may be delisted (1d 2018-09-17 -> 2024-03-17)')\n"
     ]
    }
   ],
   "source": [
    "args = utils.load_args()\n",
    "startdate, enddate = utils.get_dates(args)\n",
    "\n",
    "market_return, riskfree_return, nonholiday_dates = utils.get_benchmark_data(args.benchmark.market, args.benchmark.riskfree, startdate, enddate)\n",
    "market_data = utils.get_pdr_data(args.benchmark.market, startdate-utils.parse_period_date(args.sharpe.period), enddate, progress=False, clean=False)\n",
    "stocks_data = utils.get_pdr_data(symbols, startdate-utils.parse_period_date(args.sharpe.period), enddate, progress=True, clean=True)"
   ]
  },
  {
   "cell_type": "code",
   "execution_count": 13,
   "metadata": {},
   "outputs": [],
   "source": [
    "sharpe_update_dates = utils.linspace_datetime(nonholiday_dates, startdate, enddate, delta=utils.parse_period_date(args.sharpe.period))\n",
    "rebalance_update_dates = utils.linspace_datetime(nonholiday_dates, startdate, enddate, delta=utils.parse_period_date(args.rebalance.period))"
   ]
  },
  {
   "cell_type": "code",
   "execution_count": 14,
   "metadata": {},
   "outputs": [
    {
     "name": "stderr",
     "output_type": "stream",
     "text": [
      "nonholiday_dates:   7%|▋         | 83/1258 [00:00<02:03,  9.52it/s]"
     ]
    },
    {
     "name": "stdout",
     "output_type": "stream",
     "text": [
      "Date: 2019-03-18 00:00:00\n",
      "Market Sharpe: -0.023632414682977096\n",
      "Ticker\tUtility\tWeight\n",
      "AMT:\t0.1616\t0.2153\n",
      "ENPH:\t0.1614\t0.2151\n",
      "AES:\t0.1507\t0.2009\n",
      "O:\t0.146\t0.1945\n",
      "SBUX:\t0.1306\t0.1741\n",
      "--------------------------------------------------------------------------------\n"
     ]
    },
    {
     "name": "stderr",
     "output_type": "stream",
     "text": [
      "nonholiday_dates: 100%|██████████| 1258/1258 [00:01<00:00, 773.13it/s]\n"
     ]
    }
   ],
   "source": [
    "portfolio = utils.Portfolio()\n",
    "stocks_return = utils.compute_log_return(stocks_data, was_annual=False, retain_symbols=True)\n",
    "\n",
    "X = []\n",
    "X_market = []\n",
    "\n",
    "for dt in tqdm(nonholiday_dates, desc=\"nonholiday_dates\"):\n",
    "    if dt in rebalance_update_dates:\n",
    "        # Compute sharpe.\n",
    "        startdate_temp = dt - utils.parse_period_date(args.sharpe.period)\n",
    "        enddate_temp = dt\n",
    "        sharpe_df = utils.get_stocks_sharpe_from_data(stocks_data, args.benchmark.riskfree, startdate_temp, enddate_temp)\n",
    "        \n",
    "        # Rebalance portfolio.\n",
    "        market_sharpe = utils.get_stocks_sharpe_from_data(market_data, args.benchmark.riskfree, startdate_temp, enddate_temp)\n",
    "        portfolio.rebalance(sharpe_df.head(args.params.no_of_companies), min_threshold=market_sharpe[0])\n",
    "\n",
    "        if args.display.verbose:\n",
    "            print(\"Date:\", dt)\n",
    "            print(\"Market Sharpe:\", market_sharpe[0])\n",
    "            portfolio.display()\n",
    "            print('-'*80)\n",
    "    \n",
    "    # Update portfolio with today's returns.\n",
    "    portfolio.update(stocks_return, dt)\n",
    "    X.append(portfolio.value)\n",
    "    X_market.append(market_return.loc[dt.strftime('%Y-%m-%d')])"
   ]
  },
  {
   "cell_type": "code",
   "execution_count": 15,
   "metadata": {},
   "outputs": [
    {
     "data": {
      "text/plain": [
       "[datetime.datetime(2019, 3, 18, 0, 0)]"
      ]
     },
     "execution_count": 15,
     "metadata": {},
     "output_type": "execute_result"
    }
   ],
   "source": [
    "rebalance_update_dates"
   ]
  },
  {
   "cell_type": "code",
   "execution_count": 16,
   "metadata": {},
   "outputs": [
    {
     "name": "stdout",
     "output_type": "stream",
     "text": [
      "Ticker\tUtility\tWeight\n",
      "AMT:\t0.1616\t0.2153\n",
      "ENPH:\t0.1614\t0.2151\n",
      "AES:\t0.1507\t0.2009\n",
      "O:\t0.146\t0.1945\n",
      "SBUX:\t0.1306\t0.1741\n"
     ]
    }
   ],
   "source": [
    "portfolio.display()"
   ]
  },
  {
   "cell_type": "code",
   "execution_count": 26,
   "metadata": {},
   "outputs": [
    {
     "name": "stdout",
     "output_type": "stream",
     "text": [
      "Dates:            2019-03-18 to 2024-03-14\n",
      "Portfolio return: 0.5405892915301703\n",
      "Market return:    0.5987868798321898\n"
     ]
    }
   ],
   "source": [
    "print(\"Dates:           \", nonholiday_dates[0].date(), \"to\", nonholiday_dates[-1].date())\n",
    "print(\"Portfolio return:\", portfolio.value)\n",
    "print(\"Market return:   \", sum(X_market)[0])"
   ]
  },
  {
   "cell_type": "code",
   "execution_count": 33,
   "metadata": {},
   "outputs": [
    {
     "data": {
      "text/plain": [
       "170.4424214686176"
      ]
     },
     "execution_count": 33,
     "metadata": {},
     "output_type": "execute_result"
    }
   ],
   "source": [
    "real = np.array([1.91, 1072, -16.89, -25, +25])\n",
    "real.dot(list(portfolio.current_tickers.values()))"
   ]
  },
  {
   "cell_type": "code",
   "execution_count": 18,
   "metadata": {},
   "outputs": [],
   "source": [
    "# Couple of hings to try:\n",
    "# - Check why the market return does not match actual performance.\n",
    "# - Try Sortino's ratio instead."
   ]
  }
 ],
 "metadata": {
  "kernelspec": {
   "display_name": "Python 3",
   "language": "python",
   "name": "python3"
  },
  "language_info": {
   "codemirror_mode": {
    "name": "ipython",
    "version": 3
   },
   "file_extension": ".py",
   "mimetype": "text/x-python",
   "name": "python",
   "nbconvert_exporter": "python",
   "pygments_lexer": "ipython3",
   "version": "3.7.6"
  }
 },
 "nbformat": 4,
 "nbformat_minor": 2
}
