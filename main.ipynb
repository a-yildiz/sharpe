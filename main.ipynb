{
 "cells": [
  {
   "cell_type": "code",
   "execution_count": 1,
   "metadata": {},
   "outputs": [],
   "source": [
    "import utils\n",
    "import numpy as np\n",
    "\n",
    "from pandas_datareader import data as pdr\n",
    "import yfinance as yf\n",
    "yf.pdr_override()\n",
    "\n",
    "args = utils.load_args()"
   ]
  },
  {
   "cell_type": "code",
   "execution_count": 2,
   "metadata": {},
   "outputs": [],
   "source": [
    "startdate, enddate = utils.get_dates(args)\n",
    "market_data, riskfree_data = utils.get_benchmark_data(args)"
   ]
  },
  {
   "cell_type": "code",
   "execution_count": 3,
   "metadata": {},
   "outputs": [
    {
     "data": {
      "text/plain": [
       "array(0.03023906)"
      ]
     },
     "execution_count": 3,
     "metadata": {},
     "output_type": "execute_result"
    }
   ],
   "source": [
    "market_return = utils.compute_return(market_data)\n",
    "riskfree_return = utils.compute_return(riskfree_data, was_annual=True)\n",
    "utils.sharpe_ratio(market_return, riskfree_return)"
   ]
  },
  {
   "cell_type": "code",
   "execution_count": 4,
   "metadata": {},
   "outputs": [
    {
     "name": "stdout",
     "output_type": "stream",
     "text": [
      "DJI: Contains 30 tickers.\n",
      "SPY: Contains 503 tickers.\n",
      "QQQ: Contains 65 tickers.\n"
     ]
    }
   ],
   "source": [
    "dji = utils.get_dji()\n",
    "spy = utils.get_spy()\n",
    "qqq = utils.get_qqq()"
   ]
  },
  {
   "cell_type": "code",
   "execution_count": 5,
   "metadata": {},
   "outputs": [],
   "source": [
    "symbols = set(dji['Symbol']) | set(spy['Symbol']) | set(qqq['Symbol'])"
   ]
  },
  {
   "cell_type": "code",
   "execution_count": 6,
   "metadata": {},
   "outputs": [
    {
     "name": "stderr",
     "output_type": "stream",
     "text": [
      "[*********************100%%**********************]  516 of 516 completed\n",
      "\n",
      "7 Failed downloads:\n",
      "['CTXS', 'ATVI', 'BRK.B', 'BBBY', 'FISV', 'CERN']: Exception('%ticker%: No timezone found, symbol may be delisted')\n",
      "['BF.B']: Exception('%ticker%: No price data found, symbol may be delisted (1d 2019-03-14 -> 2024-03-14)')\n"
     ]
    }
   ],
   "source": [
    "stocks_pdr = pdr.get_data_yahoo(symbols, start=startdate, end=enddate, progress=True)\n",
    "stocks_pdr = utils.clean_df(stocks_pdr)"
   ]
  },
  {
   "cell_type": "code",
   "execution_count": 7,
   "metadata": {},
   "outputs": [
    {
     "data": {
      "text/plain": [
       "True"
      ]
     },
     "execution_count": 7,
     "metadata": {},
     "output_type": "execute_result"
    }
   ],
   "source": [
    "stocks = stocks_pdr.xs(key='Adj Close', level='Price', axis=1)\n",
    "utils.is_df_okay(stocks)"
   ]
  },
  {
   "cell_type": "code",
   "execution_count": 8,
   "metadata": {},
   "outputs": [],
   "source": [
    "stocks_return = utils.compute_return(stocks, retain_symbols=True)"
   ]
  },
  {
   "cell_type": "code",
   "execution_count": 9,
   "metadata": {},
   "outputs": [],
   "source": [
    "stocks_sharpe = utils.sharpe_ratio(stocks_return, riskfree_return, retain_symbols=True)"
   ]
  },
  {
   "cell_type": "code",
   "execution_count": 10,
   "metadata": {},
   "outputs": [
    {
     "data": {
      "text/plain": [
       "Ticker\n",
       "NVDA    0.073593\n",
       "LLY     0.073520\n",
       "PWR     0.063588\n",
       "BLDR    0.062459\n",
       "MCK     0.061888\n",
       "COST    0.059786\n",
       "SNPS    0.056099\n",
       "AJG     0.055522\n",
       "AVGO    0.054676\n",
       "CDNS    0.053318\n",
       "ETN     0.052383\n",
       "ODFL    0.052033\n",
       "JBL     0.051852\n",
       "CPRT    0.051595\n",
       "MSFT    0.051458\n",
       "TT      0.051091\n",
       "AAPL    0.049910\n",
       "KLAC    0.049846\n",
       "GWW     0.049300\n",
       "AMD     0.049043\n",
       "dtype: float64"
      ]
     },
     "execution_count": 10,
     "metadata": {},
     "output_type": "execute_result"
    }
   ],
   "source": [
    "stocks_sharpe.sort_values(ascending=False).head(20)"
   ]
  },
  {
   "cell_type": "code",
   "execution_count": 24,
   "metadata": {},
   "outputs": [
    {
     "data": {
      "text/plain": [
       "array(0.03023906)"
      ]
     },
     "execution_count": 24,
     "metadata": {},
     "output_type": "execute_result"
    }
   ],
   "source": [
    "syms = ['VOO']\n",
    "df = utils.get_pdr_data(syms, *utils.get_dates(args))\n",
    "syms_return = utils.compute_return(df)\n",
    "utils.sharpe_ratio(syms_return, riskfree_return)"
   ]
  }
 ],
 "metadata": {
  "kernelspec": {
   "display_name": "Python 3",
   "language": "python",
   "name": "python3"
  },
  "language_info": {
   "codemirror_mode": {
    "name": "ipython",
    "version": 3
   },
   "file_extension": ".py",
   "mimetype": "text/x-python",
   "name": "python",
   "nbconvert_exporter": "python",
   "pygments_lexer": "ipython3",
   "version": "3.7.6"
  }
 },
 "nbformat": 4,
 "nbformat_minor": 2
}
