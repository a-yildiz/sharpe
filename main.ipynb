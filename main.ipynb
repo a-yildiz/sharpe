{
 "cells": [
  {
   "cell_type": "code",
   "execution_count": 53,
   "metadata": {},
   "outputs": [],
   "source": [
    "import utils\n",
    "import numpy as np\n",
    "\n",
    "from tqdm import tqdm\n",
    "from pandas_datareader import data as pdr\n",
    "import yfinance as yf\n",
    "yf.pdr_override()"
   ]
  },
  {
   "cell_type": "code",
   "execution_count": 54,
   "metadata": {},
   "outputs": [
    {
     "name": "stdout",
     "output_type": "stream",
     "text": [
      "DJI: Contains 30 tickers.\n",
      "SPY: Contains 503 tickers.\n",
      "QQQ: Contains 65 tickers.\n"
     ]
    }
   ],
   "source": [
    "dji = utils.get_dji()\n",
    "spy = utils.get_spy()\n",
    "qqq = utils.get_qqq()\n",
    "\n",
    "# symbols = set(spy['Symbol'])\n",
    "symbols = set(dji['Symbol']) | set(spy['Symbol']) | set(qqq['Symbol'])"
   ]
  },
  {
   "cell_type": "code",
   "execution_count": 55,
   "metadata": {},
   "outputs": [
    {
     "name": "stderr",
     "output_type": "stream",
     "text": [
      "[*********************100%%**********************]  516 of 516 completed\n",
      "\n",
      "7 Failed downloads:\n",
      "['ATVI', 'CTXS', 'FISV', 'CERN', 'BBBY', 'BRK.B']: Exception('%ticker%: No timezone found, symbol may be delisted')\n",
      "['BF.B']: Exception('%ticker%: No price data found, symbol may be delisted (1d 2021-09-17 -> 2024-03-17)')\n"
     ]
    }
   ],
   "source": [
    "args = utils.load_args()\n",
    "startdate, enddate = utils.get_dates(args)\n",
    "\n",
    "market_return, riskfree_return, nonholiday_dates = utils.get_benchmark_data(args.benchmark.market, args.benchmark.riskfree, startdate, enddate)\n",
    "market_data = utils.get_pdr_data(args.benchmark.market, startdate-utils.parse_period_date(args.sharpe.period), enddate, progress=False, clean=False)\n",
    "stocks_data = utils.get_pdr_data(symbols, startdate-utils.parse_period_date(args.sharpe.period), enddate, progress=True, clean=True)"
   ]
  },
  {
   "cell_type": "code",
   "execution_count": 56,
   "metadata": {},
   "outputs": [],
   "source": [
    "sharpe_update_dates = utils.linspace_datetime(nonholiday_dates, startdate, enddate, delta=utils.parse_period_date(args.sharpe.period))\n",
    "rebalance_update_dates = utils.linspace_datetime(nonholiday_dates, startdate, enddate, delta=utils.parse_period_date(args.rebalance.period))"
   ]
  },
  {
   "cell_type": "code",
   "execution_count": 57,
   "metadata": {},
   "outputs": [
    {
     "name": "stderr",
     "output_type": "stream",
     "text": [
      "nonholiday_dates:   0%|          | 0/501 [00:00<?, ?it/s]"
     ]
    },
    {
     "name": "stderr",
     "output_type": "stream",
     "text": [
      "nonholiday_dates: 100%|██████████| 501/501 [00:10<00:00, 50.08it/s]\n"
     ]
    }
   ],
   "source": [
    "portfolio = utils.Portfolio(args.display.initial_balance)\n",
    "stocks_return = utils.compute_log_return(stocks_data, was_annual=False, retain_symbols=True)\n",
    "\n",
    "for dt in tqdm(nonholiday_dates, desc=\"nonholiday_dates\"):\n",
    "    if dt in rebalance_update_dates:\n",
    "        # Compute sharpe.\n",
    "        startdate_temp = dt - utils.parse_period_date(args.sharpe.period)\n",
    "        enddate_temp = dt\n",
    "        sharpe_df = utils.get_stocks_sharpe_from_data(stocks_data, args.benchmark.riskfree, startdate_temp, enddate_temp)\n",
    "        \n",
    "        # Rebalance portfolio.\n",
    "        market_sharpe = utils.get_stocks_sharpe_from_data(market_data, args.benchmark.riskfree, startdate_temp, enddate_temp)\n",
    "        portfolio.rebalance(sharpe_df.head(args.params.no_of_companies), min_threshold=market_sharpe[0])\n",
    "\n",
    "        if args.display.verbose:\n",
    "            print(\"Date:\", dt)\n",
    "            print(\"Market Sharpe:\", market_sharpe[0])\n",
    "            portfolio.display()\n",
    "            print('-'*80)\n",
    "    \n",
    "    # Update portfolio with today's returns.\n",
    "    portfolio.update(stocks_return, dt)"
   ]
  },
  {
   "cell_type": "code",
   "execution_count": 58,
   "metadata": {},
   "outputs": [
    {
     "name": "stdout",
     "output_type": "stream",
     "text": [
      "        !Utility   %Weight     $Value\n",
      "Ticker                               \n",
      "NRG     0.251311  0.115599  14.227186\n",
      "HIG     0.239296  0.109253  13.446142\n",
      "ALL     0.231366  0.107393  13.217255\n",
      "GE      0.213898  0.098811  12.161012\n",
      "JPM     0.213015  0.098360  12.105570\n",
      "COR     0.212890  0.097324  11.977980\n",
      "NVDA    0.209396  0.095389  11.739877\n",
      "PGR     0.207673  0.096131  11.831274\n",
      "TRV     0.199541  0.090809  11.176187\n",
      "CMG     0.198801  0.090932  11.191385\n"
     ]
    }
   ],
   "source": [
    "# Final portfolio.\n",
    "portfolio.display()"
   ]
  },
  {
   "cell_type": "code",
   "execution_count": 59,
   "metadata": {},
   "outputs": [
    {
     "name": "stdout",
     "output_type": "stream",
     "text": [
      "Dates:            2022-03-17 to 2024-03-14\n",
      "Portfolio return: 23.07386726535495 %\n"
     ]
    }
   ],
   "source": [
    "print(\"Dates:           \", nonholiday_dates[0].date(), \"to\", nonholiday_dates[-1].date())\n",
    "print(\"Portfolio return:\", 100*(portfolio.value-args.display.initial_balance)/args.display.initial_balance, \"%\")"
   ]
  },
  {
   "cell_type": "code",
   "execution_count": 60,
   "metadata": {},
   "outputs": [
    {
     "name": "stdout",
     "output_type": "stream",
     "text": [
      "Test return: 13.985984646743406 %\n"
     ]
    }
   ],
   "source": [
    "test_data = utils.get_pdr_data(['VTI'], startdate, enddate, progress=False, clean=False)\n",
    "test_return = utils.compute_log_return(test_data, was_annual=False, retain_symbols=True)\n",
    "\n",
    "print(\"Test return:\", 100*(test_data.tail(1).values[0] - test_data.head(1).values[0]) / test_data.head(1).values[0] , \"%\")"
   ]
  },
  {
   "cell_type": "code",
   "execution_count": 61,
   "metadata": {},
   "outputs": [],
   "source": [
    "# Couple of hings to try:\n",
    "# - Double check performance when rebalancing.\n",
    "# - Try Sortino's ratio instead.\n",
    "# - Try also using Market Cap."
   ]
  },
  {
   "cell_type": "code",
   "execution_count": 62,
   "metadata": {},
   "outputs": [],
   "source": [
    "test_data = utils.get_pdr_data(['VTI'], startdate, enddate, progress=False, clean=False)\n",
    "test_return = utils.compute_log_return(test_data, was_annual=False, retain_symbols=True)"
   ]
  },
  {
   "cell_type": "code",
   "execution_count": 63,
   "metadata": {},
   "outputs": [
    {
     "data": {
      "text/plain": [
       "0    1.13986\n",
       "dtype: float64"
      ]
     },
     "execution_count": 63,
     "metadata": {},
     "output_type": "execute_result"
    }
   ],
   "source": [
    "np.prod(test_return+1)"
   ]
  },
  {
   "cell_type": "code",
   "execution_count": 64,
   "metadata": {},
   "outputs": [
    {
     "data": {
      "text/plain": [
       "1.1398598464674365"
      ]
     },
     "execution_count": 64,
     "metadata": {},
     "output_type": "execute_result"
    }
   ],
   "source": [
    "np.prod(1+test_data.pct_change().dropna())"
   ]
  },
  {
   "cell_type": "code",
   "execution_count": 65,
   "metadata": {},
   "outputs": [
    {
     "data": {
      "text/plain": [
       "Date\n",
       "2022-03-17    222.580002\n",
       "Name: Close, dtype: float64"
      ]
     },
     "execution_count": 65,
     "metadata": {},
     "output_type": "execute_result"
    }
   ],
   "source": [
    "test_data.head(1)"
   ]
  },
  {
   "cell_type": "code",
   "execution_count": 66,
   "metadata": {},
   "outputs": [
    {
     "data": {
      "text/plain": [
       "Date\n",
       "2024-03-15    253.710007\n",
       "Name: Close, dtype: float64"
      ]
     },
     "execution_count": 66,
     "metadata": {},
     "output_type": "execute_result"
    }
   ],
   "source": [
    "test_data.tail(1)"
   ]
  },
  {
   "cell_type": "code",
   "execution_count": 67,
   "metadata": {},
   "outputs": [
    {
     "data": {
      "text/plain": [
       "array([0.13985985])"
      ]
     },
     "execution_count": 67,
     "metadata": {},
     "output_type": "execute_result"
    }
   ],
   "source": [
    "(test_data.tail(1).values - test_data.head(1).values) / test_data.head(1).values "
   ]
  }
 ],
 "metadata": {
  "kernelspec": {
   "display_name": "Python 3",
   "language": "python",
   "name": "python3"
  },
  "language_info": {
   "codemirror_mode": {
    "name": "ipython",
    "version": 3
   },
   "file_extension": ".py",
   "mimetype": "text/x-python",
   "name": "python",
   "nbconvert_exporter": "python",
   "pygments_lexer": "ipython3",
   "version": "3.7.6"
  }
 },
 "nbformat": 4,
 "nbformat_minor": 2
}
