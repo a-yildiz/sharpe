{
 "cells": [
  {
   "cell_type": "code",
   "execution_count": 1,
   "metadata": {},
   "outputs": [],
   "source": [
    "import utils\n",
    "import numpy as np\n",
    "\n",
    "from tqdm import tqdm\n",
    "from pandas_datareader import data as pdr\n",
    "import yfinance as yf\n",
    "yf.pdr_override()"
   ]
  },
  {
   "cell_type": "code",
   "execution_count": 2,
   "metadata": {},
   "outputs": [
    {
     "name": "stdout",
     "output_type": "stream",
     "text": [
      "DJI: Contains 30 tickers.\n",
      "SPY: Contains 503 tickers.\n",
      "QQQ: Contains 65 tickers.\n"
     ]
    }
   ],
   "source": [
    "# Note: If this cell takes fails to complete, re-run.\n",
    "dji = utils.get_dji()\n",
    "spy = utils.get_spy()\n",
    "qqq = utils.get_qqq()\n",
    "\n",
    "symbols = set(dji['Symbol']) | set(spy['Symbol']) | set(qqq['Symbol'])"
   ]
  },
  {
   "cell_type": "code",
   "execution_count": 3,
   "metadata": {},
   "outputs": [
    {
     "name": "stderr",
     "output_type": "stream",
     "text": [
      "[*********************100%%**********************]  516 of 516 completed\n",
      "\n",
      "11 Failed downloads:\n",
      "['BF.B']: Exception('%ticker%: No price data found, symbol may be delisted (1d 2017-11-01 00:00:00 -> 2021-11-01 00:00:00)')\n",
      "['CERN', 'FISV', 'BBBY', 'ATVI', 'BRK.B', 'CTXS']: Exception('%ticker%: No timezone found, symbol may be delisted')\n",
      "['GEHC', 'CEG', 'VLTO', 'KVUE']: Exception(\"%ticker%: Data doesn't exist for startDate = 1509508800, endDate = 1635739200\")\n"
     ]
    }
   ],
   "source": [
    "# Note: If this cell takes fails to complete, re-run.\n",
    "args = utils.load_args()\n",
    "startdate, enddate = utils.get_dates(args)\n",
    "\n",
    "market_return, riskfree_return, nonholiday_dates = utils.get_benchmark_data(args.benchmark.market, args.benchmark.riskfree, startdate, enddate)\n",
    "market_data = utils.get_pdr_data(args.benchmark.market, startdate-utils.parse_period_date(args.sharpe.period), enddate, progress=False, clean=False)\n",
    "stocks_data = utils.get_pdr_data(symbols, startdate-utils.parse_period_date(args.sharpe.period), enddate, progress=True, clean=True)"
   ]
  },
  {
   "cell_type": "code",
   "execution_count": 4,
   "metadata": {},
   "outputs": [],
   "source": [
    "sharpe_update_dates = utils.linspace_datetime(nonholiday_dates, startdate, enddate, delta=utils.parse_period_date(args.sharpe.period))\n",
    "rebalance_update_dates = utils.linspace_datetime(nonholiday_dates, startdate, enddate, delta=utils.parse_period_date(args.rebalance.period))"
   ]
  },
  {
   "cell_type": "code",
   "execution_count": 5,
   "metadata": {},
   "outputs": [
    {
     "name": "stderr",
     "output_type": "stream",
     "text": [
      "nonholiday_dates: 100%|██████████| 753/753 [00:07<00:00, 104.15it/s]\n"
     ]
    }
   ],
   "source": [
    "portfolio = utils.Portfolio(args.display.initial_balance)\n",
    "stocks_return = utils.compute_return(stocks_data, was_annual=False, retain_symbols=True)\n",
    "\n",
    "for dt in tqdm(nonholiday_dates, desc=\"nonholiday_dates\"):\n",
    "    if dt in rebalance_update_dates:\n",
    "        # Compute sharpe.\n",
    "        startdate_temp = dt - utils.parse_period_date(args.sharpe.period)\n",
    "        enddate_temp = dt\n",
    "        sharpe_df = utils.get_stocks_utility_from_data(stocks_data, args.benchmark.riskfree, startdate_temp, enddate_temp, args.utility)\n",
    "        \n",
    "        # Rebalance portfolio.\n",
    "        market_sharpe = utils.get_stocks_utility_from_data(market_data, args.benchmark.riskfree, startdate_temp, enddate_temp, args.utility)\n",
    "        portfolio.rebalance(sharpe_df.head(args.params.no_of_companies), min_threshold=market_sharpe[0])\n",
    "\n",
    "        if args.display.verbose:\n",
    "            print(\"Date:            \", dt)\n",
    "            print(\"Market Sharpe:   \", market_sharpe[0])\n",
    "            print(\"Portfolio $Value:\", portfolio.value)\n",
    "            portfolio.verbose()\n",
    "            print('-'*80)\n",
    "\n",
    "        if args.display.plot:\n",
    "            portfolio.plot()\n",
    "    \n",
    "    # Update portfolio with today's returns.\n",
    "    portfolio.update(stocks_return, dt)"
   ]
  },
  {
   "cell_type": "code",
   "execution_count": 6,
   "metadata": {},
   "outputs": [
    {
     "name": "stdout",
     "output_type": "stream",
     "text": [
      "        !Utility   %Weight     $Value\n",
      "Ticker                               \n",
      "BX      0.201234  0.235137  50.690355\n",
      "TRGP    0.192729  0.202782  43.715330\n",
      "IT      0.181015  0.191721  41.330904\n",
      "FTNT    0.180920  0.199522  43.012508\n",
      "MS      0.168496  0.170838  36.828806\n"
     ]
    }
   ],
   "source": [
    "# Final portfolio.\n",
    "portfolio.verbose()"
   ]
  },
  {
   "cell_type": "code",
   "execution_count": 7,
   "metadata": {},
   "outputs": [
    {
     "name": "stdout",
     "output_type": "stream",
     "text": [
      "Dates:            2018-11-01 to 2021-10-28\n",
      "VTI return :      69.0644368850424 %\n",
      "Portfolio return: 115.57790348217611 %\n"
     ]
    }
   ],
   "source": [
    "test_data = utils.get_pdr_data(['VTI'], startdate, enddate, progress=False, clean=False)\n",
    "test_return = utils.compute_return(test_data, was_annual=False, retain_symbols=True)\n",
    "\n",
    "print(\"Dates:           \", nonholiday_dates[0].date(), \"to\", nonholiday_dates[-1].date())\n",
    "print(\"VTI return :     \", 100*(test_data.tail(1).values[0] - test_data.head(1).values[0]) / test_data.head(1).values[0] , \"%\")\n",
    "print(\"Portfolio return:\", 100*(portfolio.value-args.display.initial_balance)/args.display.initial_balance, \"%\")"
   ]
  },
  {
   "cell_type": "code",
   "execution_count": 8,
   "metadata": {},
   "outputs": [],
   "source": [
    "# import matplotlib.pyplot as plt\n",
    "# import pandas as pd\n",
    "\n",
    "# # Create a figure and axes\n",
    "# fig, ax = plt.subplots()\n",
    "\n",
    "# # Now you can add data to it when desired\n",
    "# # For example, to add a line plot:\n",
    "# x_values = pd.date_range(start='1/1/2020', periods=5)  # This creates a range of dates\n",
    "# y_values = [1, 4, 9, 16, 25]\n",
    "# ax.plot(x_values, y_values)\n",
    "\n",
    "# # You can add more data later\n",
    "# # For example, to add another line plot:\n",
    "# y_values2 = [1, 8, 27, 64, 125]\n",
    "# ax.plot(x_values, y_values2)\n",
    "\n",
    "# # Rotate x-axis labels\n",
    "# plt.xticks(rotation=45)\n",
    "\n",
    "# # When you're ready to display the figure, use plt.show()\n",
    "# plt.show()"
   ]
  },
  {
   "cell_type": "code",
   "execution_count": 9,
   "metadata": {},
   "outputs": [],
   "source": [
    "# Couple of hings to try:\n",
    "# - Double check performance when rebalancing.\n",
    "# - Try Sortino's ratio instead.\n",
    "# - Try also using Market Cap."
   ]
  }
 ],
 "metadata": {
  "kernelspec": {
   "display_name": "Python 3",
   "language": "python",
   "name": "python3"
  },
  "language_info": {
   "codemirror_mode": {
    "name": "ipython",
    "version": 3
   },
   "file_extension": ".py",
   "mimetype": "text/x-python",
   "name": "python",
   "nbconvert_exporter": "python",
   "pygments_lexer": "ipython3",
   "version": "3.7.6"
  }
 },
 "nbformat": 4,
 "nbformat_minor": 2
}
