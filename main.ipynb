{
 "cells": [
  {
   "cell_type": "code",
   "execution_count": 1,
   "metadata": {},
   "outputs": [],
   "source": [
    "import utils\n",
    "import numpy as np\n",
    "\n",
    "from tqdm import tqdm\n",
    "from pandas_datareader import data as pdr\n",
    "import yfinance as yf\n",
    "yf.pdr_override()"
   ]
  },
  {
   "cell_type": "code",
   "execution_count": 2,
   "metadata": {},
   "outputs": [
    {
     "name": "stdout",
     "output_type": "stream",
     "text": [
      "DJI: Contains 30 tickers.\n",
      "SPY: Contains 503 tickers.\n",
      "QQQ: Contains 65 tickers.\n"
     ]
    }
   ],
   "source": [
    "# Note: If this cell takes too long to complete, re-run.\n",
    "dji = utils.get_dji()\n",
    "spy = utils.get_spy()\n",
    "qqq = utils.get_qqq()\n",
    "\n",
    "symbols = set(dji['Symbol']) | set(spy['Symbol']) | set(qqq['Symbol'])"
   ]
  },
  {
   "cell_type": "code",
   "execution_count": 3,
   "metadata": {},
   "outputs": [
    {
     "name": "stderr",
     "output_type": "stream",
     "text": [
      "[*********************100%%**********************]  516 of 516 completed\n",
      "\n",
      "12 Failed downloads:\n",
      "['GEHC', 'CEG', 'KVUE', 'VLTO', 'ABNB']: Exception(\"%ticker%: Data doesn't exist for startDate = 1493611200, endDate = 1604203200\")\n",
      "['CERN', 'BRK.B', 'FISV', 'CTXS', 'BBBY', 'ATVI']: Exception('%ticker%: No timezone found, symbol may be delisted')\n",
      "['BF.B']: Exception('%ticker%: No price data found, symbol may be delisted (1d 2017-05-01 00:00:00 -> 2020-11-01 00:00:00)')\n"
     ]
    }
   ],
   "source": [
    "args = utils.load_args()\n",
    "startdate, enddate = utils.get_dates(args)\n",
    "\n",
    "market_return, riskfree_return, nonholiday_dates = utils.get_benchmark_data(args.benchmark.market, args.benchmark.riskfree, startdate, enddate)\n",
    "market_data = utils.get_pdr_data(args.benchmark.market, startdate-utils.parse_period_date(args.sharpe.period), enddate, progress=False, clean=False)\n",
    "stocks_data = utils.get_pdr_data(symbols, startdate-utils.parse_period_date(args.sharpe.period), enddate, progress=True, clean=True)"
   ]
  },
  {
   "cell_type": "code",
   "execution_count": 4,
   "metadata": {},
   "outputs": [],
   "source": [
    "sharpe_update_dates = utils.linspace_datetime(nonholiday_dates, startdate, enddate, delta=utils.parse_period_date(args.sharpe.period))\n",
    "rebalance_update_dates = utils.linspace_datetime(nonholiday_dates, startdate, enddate, delta=utils.parse_period_date(args.rebalance.period))"
   ]
  },
  {
   "cell_type": "code",
   "execution_count": 5,
   "metadata": {},
   "outputs": [
    {
     "name": "stderr",
     "output_type": "stream",
     "text": [
      "nonholiday_dates:  11%|█         | 83/754 [00:00<01:09,  9.71it/s]"
     ]
    },
    {
     "name": "stdout",
     "output_type": "stream",
     "text": [
      "Date: 2017-11-01 00:00:00\n",
      "Market Sharpe: 0.12884898868195624\n",
      "        !Utility   %Weight     $Value\n",
      "Ticker                               \n",
      "CBOE    0.316170  0.397801  39.780111\n",
      "PYPL    0.245000  0.308256  30.825559\n",
      "MTD     0.233625  0.293943  29.394330\n",
      "--------------------------------------------------------------------------------\n"
     ]
    },
    {
     "name": "stderr",
     "output_type": "stream",
     "text": [
      "nonholiday_dates:  39%|███▉      | 297/754 [00:00<00:16, 27.14it/s]"
     ]
    },
    {
     "name": "stdout",
     "output_type": "stream",
     "text": [
      "Date: 2018-07-11 00:00:00\n",
      "Market Sharpe: 0.006128572794035204\n",
      "        !Utility   %Weight     $Value\n",
      "Ticker                               \n",
      "DXCM    0.209748  0.335357  32.831812\n",
      "NFLX    0.208545  0.333434  32.643506\n",
      "PTC     0.207153  0.331209  32.425644\n",
      "--------------------------------------------------------------------------------\n"
     ]
    },
    {
     "name": "stderr",
     "output_type": "stream",
     "text": [
      "nonholiday_dates:  60%|█████▉    | 449/754 [00:00<00:05, 52.12it/s]"
     ]
    },
    {
     "name": "stdout",
     "output_type": "stream",
     "text": [
      "Date: 2019-03-21 00:00:00\n",
      "Market Sharpe: -0.025754631597981952\n",
      "        !Utility   %Weight     $Value\n",
      "Ticker                               \n",
      "ENPH    0.177302  0.362297  38.632976\n",
      "AMT     0.165804  0.338802  36.127581\n",
      "BALL    0.146277  0.298901  31.872767\n",
      "--------------------------------------------------------------------------------\n"
     ]
    },
    {
     "name": "stderr",
     "output_type": "stream",
     "text": [
      "nonholiday_dates:  82%|████████▏ | 622/754 [00:01<00:01, 97.48it/s]"
     ]
    },
    {
     "name": "stdout",
     "output_type": "stream",
     "text": [
      "Date: 2019-12-02 00:00:00\n",
      "Market Sharpe: 0.1269537705281962\n",
      "        !Utility   %Weight     $Value\n",
      "Ticker                               \n",
      "GNRC    0.236562  0.337830  55.884162\n",
      "AAPL    0.235713  0.336617  55.683521\n",
      "BLDR    0.227965  0.325553  53.853282\n",
      "--------------------------------------------------------------------------------\n"
     ]
    },
    {
     "name": "stderr",
     "output_type": "stream",
     "text": [
      "nonholiday_dates: 100%|██████████| 754/754 [00:01<00:00, 487.12it/s]"
     ]
    },
    {
     "name": "stdout",
     "output_type": "stream",
     "text": [
      "Date: 2020-08-11 00:00:00\n",
      "Market Sharpe: 0.01439557541156878\n",
      "        !Utility   %Weight     $Value\n",
      "Ticker                               \n",
      "EQT     0.176561  0.356188  87.152813\n",
      "ETSY    0.175062  0.353164  86.412752\n",
      "WST     0.144073  0.290648  71.116239\n",
      "--------------------------------------------------------------------------------\n"
     ]
    },
    {
     "name": "stderr",
     "output_type": "stream",
     "text": [
      "\n"
     ]
    }
   ],
   "source": [
    "portfolio = utils.Portfolio(args.display.initial_balance)\n",
    "stocks_return = utils.compute_return(stocks_data, was_annual=False, retain_symbols=True)\n",
    "\n",
    "for dt in tqdm(nonholiday_dates, desc=\"nonholiday_dates\"):\n",
    "    if dt in rebalance_update_dates:\n",
    "        # Compute sharpe.\n",
    "        startdate_temp = dt - utils.parse_period_date(args.sharpe.period)\n",
    "        enddate_temp = dt\n",
    "        sharpe_df = utils.get_stocks_sharpe_from_data(stocks_data, args.benchmark.riskfree, startdate_temp, enddate_temp)\n",
    "        \n",
    "        # Rebalance portfolio.\n",
    "        market_sharpe = utils.get_stocks_sharpe_from_data(market_data, args.benchmark.riskfree, startdate_temp, enddate_temp)\n",
    "        portfolio.rebalance(sharpe_df.head(args.params.no_of_companies), min_threshold=market_sharpe[0])\n",
    "\n",
    "        if args.display.verbose:\n",
    "            print(\"Date:\", dt)\n",
    "            print(\"Market Sharpe:\", market_sharpe[0])\n",
    "            portfolio.display()\n",
    "            print('-'*80)\n",
    "    \n",
    "    # Update portfolio with today's returns.\n",
    "    portfolio.update(stocks_return, dt)"
   ]
  },
  {
   "cell_type": "code",
   "execution_count": 6,
   "metadata": {},
   "outputs": [
    {
     "name": "stdout",
     "output_type": "stream",
     "text": [
      "        !Utility   %Weight     $Value\n",
      "Ticker                               \n",
      "EQT     0.176561  0.343262  81.299670\n",
      "ETSY    0.175062  0.347938  82.407264\n",
      "WST     0.144073  0.308801  73.137768\n"
     ]
    }
   ],
   "source": [
    "# Final portfolio.\n",
    "portfolio.display()"
   ]
  },
  {
   "cell_type": "code",
   "execution_count": 7,
   "metadata": {},
   "outputs": [
    {
     "name": "stdout",
     "output_type": "stream",
     "text": [
      "Dates:            2017-11-01 to 2020-10-29\n",
      "Portfolio return: 136.84470282830313 %\n"
     ]
    }
   ],
   "source": [
    "print(\"Dates:           \", nonholiday_dates[0].date(), \"to\", nonholiday_dates[-1].date())\n",
    "print(\"Portfolio return:\", 100*(portfolio.value-args.display.initial_balance)/args.display.initial_balance, \"%\")"
   ]
  },
  {
   "cell_type": "code",
   "execution_count": 8,
   "metadata": {},
   "outputs": [
    {
     "name": "stdout",
     "output_type": "stream",
     "text": [
      "Test return: 26.087286631577445 %\n"
     ]
    }
   ],
   "source": [
    "test_data = utils.get_pdr_data(['VTI'], startdate, enddate, progress=False, clean=False)\n",
    "test_return = utils.compute_return(test_data, was_annual=False, retain_symbols=True)\n",
    "\n",
    "print(\"Test return:\", 100*(test_data.tail(1).values[0] - test_data.head(1).values[0]) / test_data.head(1).values[0] , \"%\")"
   ]
  },
  {
   "cell_type": "code",
   "execution_count": 9,
   "metadata": {},
   "outputs": [],
   "source": [
    "# Couple of hings to try:\n",
    "# - Double check performance when rebalancing.\n",
    "# - Try Sortino's ratio instead.\n",
    "# - Try also using Market Cap."
   ]
  }
 ],
 "metadata": {
  "kernelspec": {
   "display_name": "Python 3",
   "language": "python",
   "name": "python3"
  },
  "language_info": {
   "codemirror_mode": {
    "name": "ipython",
    "version": 3
   },
   "file_extension": ".py",
   "mimetype": "text/x-python",
   "name": "python",
   "nbconvert_exporter": "python",
   "pygments_lexer": "ipython3",
   "version": "3.7.6"
  }
 },
 "nbformat": 4,
 "nbformat_minor": 2
}
