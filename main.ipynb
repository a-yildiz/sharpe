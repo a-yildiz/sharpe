{
 "cells": [
  {
   "cell_type": "code",
   "execution_count": 1,
   "metadata": {},
   "outputs": [],
   "source": [
    "import utils\n",
    "import numpy as np\n",
    "\n",
    "args = utils.load_args()"
   ]
  },
  {
   "cell_type": "code",
   "execution_count": 2,
   "metadata": {},
   "outputs": [],
   "source": [
    "startdate, enddate = utils.get_dates(args)\n",
    "market_data, riskfree_data = utils.get_benchmark_data(args)"
   ]
  },
  {
   "cell_type": "code",
   "execution_count": 3,
   "metadata": {},
   "outputs": [],
   "source": [
    "# Market data is already retrieved as daily.\n",
    "market_return = np.diff(np.log(market_data))\n",
    "\n",
    "# Riskfree data should be converted to daily from annual.\n",
    "riskfree_annual_return = (riskfree_data/100)[1:]\n",
    "riskfree_annual_log_return = np.log(1+riskfree_annual_return)\n",
    "riskfree_daily_log_return = riskfree_annual_log_return/252"
   ]
  },
  {
   "cell_type": "code",
   "execution_count": 4,
   "metadata": {},
   "outputs": [
    {
     "data": {
      "text/plain": [
       "0.4107"
      ]
     },
     "execution_count": 4,
     "metadata": {},
     "output_type": "execute_result"
    }
   ],
   "source": [
    "Excess_Return = market_return - riskfree_daily_log_return\n",
    "\n",
    "Sharpe_Ratio = Excess_Return.mean() / Excess_Return.std(ddof=1)\n",
    "\n",
    "round(Sharpe_Ratio, 4)  ## daily Sharpe ratio (what we use)"
   ]
  }
 ],
 "metadata": {
  "kernelspec": {
   "display_name": "Python 3",
   "language": "python",
   "name": "python3"
  },
  "language_info": {
   "codemirror_mode": {
    "name": "ipython",
    "version": 3
   },
   "file_extension": ".py",
   "mimetype": "text/x-python",
   "name": "python",
   "nbconvert_exporter": "python",
   "pygments_lexer": "ipython3",
   "version": "3.7.6"
  }
 },
 "nbformat": 4,
 "nbformat_minor": 2
}
