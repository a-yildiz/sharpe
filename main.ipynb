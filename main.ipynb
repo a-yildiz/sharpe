{
 "cells": [
  {
   "cell_type": "code",
   "execution_count": 1,
   "metadata": {},
   "outputs": [],
   "source": [
    "import utils\n",
    "import numpy as np\n",
    "\n",
    "from pandas_datareader import data as pdr\n",
    "import yfinance as yf\n",
    "yf.pdr_override()\n",
    "\n",
    "args = utils.load_args()"
   ]
  },
  {
   "cell_type": "code",
   "execution_count": 2,
   "metadata": {},
   "outputs": [],
   "source": [
    "startdate, enddate = utils.get_dates(args)\n",
    "market_data, riskfree_data = utils.get_benchmark_data(args)"
   ]
  },
  {
   "cell_type": "code",
   "execution_count": 3,
   "metadata": {},
   "outputs": [
    {
     "data": {
      "text/plain": [
       "array(0.41073705)"
      ]
     },
     "execution_count": 3,
     "metadata": {},
     "output_type": "execute_result"
    }
   ],
   "source": [
    "market_return = utils.compute_return(market_data)\n",
    "riskfree_return = utils.compute_return(riskfree_data, was_annual=True)\n",
    "utils.compute_sharpe_ratio(market_return, riskfree_return)"
   ]
  },
  {
   "cell_type": "code",
   "execution_count": 4,
   "metadata": {},
   "outputs": [
    {
     "name": "stdout",
     "output_type": "stream",
     "text": [
      "DJI: Contains 30 tickers.\n",
      "SPY: Contains 503 tickers.\n",
      "QQQ: Contains 65 tickers.\n"
     ]
    }
   ],
   "source": [
    "dji = utils.get_dji()\n",
    "spy = utils.get_spy()\n",
    "qqq = utils.get_qqq()"
   ]
  },
  {
   "cell_type": "code",
   "execution_count": 5,
   "metadata": {},
   "outputs": [],
   "source": [
    "symbols = set(dji['Symbol']) | set(spy['Symbol']) | set(qqq['Symbol'])"
   ]
  },
  {
   "cell_type": "code",
   "execution_count": 6,
   "metadata": {},
   "outputs": [
    {
     "name": "stderr",
     "output_type": "stream",
     "text": [
      "[*********************100%%**********************]  516 of 516 completed\n",
      "\n",
      "14 Failed downloads:\n",
      "['CTXS', 'FISV', 'ATVI', 'CERN', 'BRK.B', 'BBBY']: Exception('%ticker%: No timezone found, symbol may be delisted')\n",
      "['VLTO', 'GEHC', 'ABNB', 'OTIS', 'CEG', 'KVUE', 'CARR']: Exception(\"%ticker%: Data doesn't exist for startDate = 1575176400, endDate = 1577854800\")\n",
      "['BF.B']: Exception('%ticker%: No price data found, symbol may be delisted (1d 2019-12-01 00:00:00 -> 2020-01-01 00:00:00)')\n"
     ]
    }
   ],
   "source": [
    "stocks_pdr = pdr.get_data_yahoo(symbols, start=startdate, end=enddate, progress=True)\n",
    "stocks_pdr = utils.clean_df(stocks_pdr)"
   ]
  },
  {
   "cell_type": "code",
   "execution_count": 7,
   "metadata": {},
   "outputs": [
    {
     "data": {
      "text/plain": [
       "True"
      ]
     },
     "execution_count": 7,
     "metadata": {},
     "output_type": "execute_result"
    }
   ],
   "source": [
    "stocks = stocks_pdr.xs(key='Adj Close', level='Price', axis=1)\n",
    "utils.is_df_okay(stocks)"
   ]
  },
  {
   "cell_type": "code",
   "execution_count": 8,
   "metadata": {},
   "outputs": [],
   "source": [
    "stocks_return = utils.compute_return(stocks, retain_symbols=True)"
   ]
  },
  {
   "cell_type": "code",
   "execution_count": 9,
   "metadata": {},
   "outputs": [],
   "source": [
    "stocks_sharpe = utils.compute_sharpe_ratio(stocks_return, riskfree_return, retain_symbols=True)"
   ]
  },
  {
   "cell_type": "code",
   "execution_count": 10,
   "metadata": {},
   "outputs": [
    {
     "data": {
      "text/plain": [
       "Ticker\n",
       "SWKS    0.808871\n",
       "DAY     0.685682\n",
       "HST     0.676535\n",
       "RCL     0.658164\n",
       "LLY     0.648341\n",
       "WDC     0.645742\n",
       "VFC     0.624654\n",
       "NXPI    0.620485\n",
       "ED      0.590252\n",
       "SYY     0.567283\n",
       "ZTS     0.549784\n",
       "KMI     0.542095\n",
       "BMY     0.539894\n",
       "RHI     0.536517\n",
       "OKE     0.531072\n",
       "TSLA    0.528928\n",
       "NEM     0.526851\n",
       "BBY     0.524446\n",
       "AAPL    0.516081\n",
       "FANG    0.510760\n",
       "dtype: float64"
      ]
     },
     "execution_count": 10,
     "metadata": {},
     "output_type": "execute_result"
    }
   ],
   "source": [
    "stocks_sharpe.sort_values(ascending=False).head(20)"
   ]
  },
  {
   "cell_type": "code",
   "execution_count": 11,
   "metadata": {},
   "outputs": [
    {
     "data": {
      "text/plain": [
       "array(0.42128325)"
      ]
     },
     "execution_count": 11,
     "metadata": {},
     "output_type": "execute_result"
    }
   ],
   "source": [
    "syms = ['VOO']\n",
    "df = utils.get_pdr_data(syms, *utils.get_dates(args), clean=False)\n",
    "syms_return = utils.compute_return(df)\n",
    "utils.compute_sharpe_ratio(syms_return, riskfree_return)"
   ]
  }
 ],
 "metadata": {
  "kernelspec": {
   "display_name": "Python 3",
   "language": "python",
   "name": "python3"
  },
  "language_info": {
   "codemirror_mode": {
    "name": "ipython",
    "version": 3
   },
   "file_extension": ".py",
   "mimetype": "text/x-python",
   "name": "python",
   "nbconvert_exporter": "python",
   "pygments_lexer": "ipython3",
   "version": "3.7.6"
  }
 },
 "nbformat": 4,
 "nbformat_minor": 2
}
